{
 "cells": [
  {
   "cell_type": "markdown",
   "id": "afafa8a8",
   "metadata": {},
   "source": [
    "# Let talk to Python\n"
   ]
  },
  {
   "cell_type": "markdown",
   "id": "6019d785",
   "metadata": {},
   "source": [
    "## Jupyter\n"
   ]
  },
  {
   "cell_type": "code",
   "execution_count": 3,
   "id": "51de0f75",
   "metadata": {},
   "outputs": [
    {
     "data": {
      "text/plain": [
       "13"
      ]
     },
     "execution_count": 3,
     "metadata": {},
     "output_type": "execute_result"
    }
   ],
   "source": [
    "# phep cong\n",
    "1+1+1+10"
   ]
  },
  {
   "cell_type": "code",
   "execution_count": 4,
   "id": "496cbee6",
   "metadata": {},
   "outputs": [
    {
     "data": {
      "text/plain": [
       "20.0"
      ]
     },
     "execution_count": 4,
     "metadata": {},
     "output_type": "execute_result"
    }
   ],
   "source": [
    "4 * 8 / 2 + 4\n"
   ]
  },
  {
   "cell_type": "code",
   "execution_count": 5,
   "id": "93c067cd",
   "metadata": {},
   "outputs": [
    {
     "name": "stdout",
     "output_type": "stream",
     "text": [
      "PHENIKAA\n"
     ]
    }
   ],
   "source": [
    "print ('PHENIKAA')"
   ]
  },
  {
   "cell_type": "code",
   "execution_count": 6,
   "id": "e0619639",
   "metadata": {},
   "outputs": [
    {
     "data": {
      "text/plain": [
       "3"
      ]
     },
     "execution_count": 6,
     "metadata": {},
     "output_type": "execute_result"
    }
   ],
   "source": [
    "round(10/3)"
   ]
  },
  {
   "cell_type": "code",
   "execution_count": 7,
   "id": "b19638db",
   "metadata": {},
   "outputs": [
    {
     "data": {
      "text/plain": [
       "7"
      ]
     },
     "execution_count": 7,
     "metadata": {},
     "output_type": "execute_result"
    }
   ],
   "source": [
    "round (20/3)"
   ]
  },
  {
   "cell_type": "code",
   "execution_count": 8,
   "id": "c39af502",
   "metadata": {},
   "outputs": [
    {
     "data": {
      "text/plain": [
       "False"
      ]
     },
     "execution_count": 8,
     "metadata": {},
     "output_type": "execute_result"
    }
   ],
   "source": [
    "5 > 6\n"
   ]
  },
  {
   "cell_type": "code",
   "execution_count": 9,
   "id": "6ae2c01e",
   "metadata": {},
   "outputs": [
    {
     "data": {
      "text/plain": [
       "True"
      ]
     },
     "execution_count": 9,
     "metadata": {},
     "output_type": "execute_result"
    }
   ],
   "source": [
    "5 + 9 > 10"
   ]
  },
  {
   "cell_type": "code",
   "execution_count": 10,
   "id": "be172b8d",
   "metadata": {},
   "outputs": [
    {
     "data": {
      "text/plain": [
       "False"
      ]
     },
     "execution_count": 10,
     "metadata": {},
     "output_type": "execute_result"
    }
   ],
   "source": [
    "19 != 19\n"
   ]
  },
  {
   "cell_type": "code",
   "execution_count": 11,
   "id": "a005c590",
   "metadata": {},
   "outputs": [
    {
     "data": {
      "text/plain": [
       "True"
      ]
     },
     "execution_count": 11,
     "metadata": {},
     "output_type": "execute_result"
    }
   ],
   "source": [
    "20 <= 20\n"
   ]
  },
  {
   "cell_type": "code",
   "execution_count": 12,
   "id": "603643b4",
   "metadata": {},
   "outputs": [
    {
     "data": {
      "text/plain": [
       "True"
      ]
     },
     "execution_count": 12,
     "metadata": {},
     "output_type": "execute_result"
    }
   ],
   "source": [
    "3 * 2 * 10 - 10 <= 50\n"
   ]
  },
  {
   "cell_type": "code",
   "execution_count": 13,
   "id": "7cb1a38d",
   "metadata": {},
   "outputs": [
    {
     "data": {
      "text/plain": [
       "10"
      ]
     },
     "execution_count": 13,
     "metadata": {},
     "output_type": "execute_result"
    }
   ],
   "source": [
    "21 // 2\n"
   ]
  },
  {
   "cell_type": "code",
   "execution_count": 14,
   "id": "86dc9f69",
   "metadata": {},
   "outputs": [
    {
     "ename": "SyntaxError",
     "evalue": "invalid syntax (3941287340.py, line 1)",
     "output_type": "error",
     "traceback": [
      "\u001b[0;36m  Cell \u001b[0;32mIn [14], line 1\u001b[0;36m\u001b[0m\n\u001b[0;31m    21 /// 2\u001b[0m\n\u001b[0m         ^\u001b[0m\n\u001b[0;31mSyntaxError\u001b[0m\u001b[0;31m:\u001b[0m invalid syntax\n"
     ]
    }
   ],
   "source": [
    "21 /// 2\n"
   ]
  },
  {
   "cell_type": "code",
   "execution_count": 15,
   "id": "c9d8a556",
   "metadata": {},
   "outputs": [
    {
     "data": {
      "text/plain": [
       "2"
      ]
     },
     "execution_count": 15,
     "metadata": {},
     "output_type": "execute_result"
    }
   ],
   "source": [
    "23 % 3"
   ]
  },
  {
   "cell_type": "code",
   "execution_count": 16,
   "id": "eddfc396",
   "metadata": {},
   "outputs": [
    {
     "data": {
      "text/plain": [
       "9"
      ]
     },
     "execution_count": 16,
     "metadata": {},
     "output_type": "execute_result"
    }
   ],
   "source": [
    "3 ** 2\n"
   ]
  },
  {
   "cell_type": "markdown",
   "id": "ff4d1a2e",
   "metadata": {},
   "source": [
    "## String\n"
   ]
  },
  {
   "cell_type": "code",
   "execution_count": 17,
   "id": "36e021ea",
   "metadata": {},
   "outputs": [
    {
     "data": {
      "text/plain": [
       "'hello'"
      ]
     },
     "execution_count": 17,
     "metadata": {},
     "output_type": "execute_result"
    }
   ],
   "source": [
    "\"hello\""
   ]
  },
  {
   "cell_type": "code",
   "execution_count": 18,
   "id": "f75aac74",
   "metadata": {},
   "outputs": [
    {
     "data": {
      "text/plain": [
       "'hiPhenikaa'"
      ]
     },
     "execution_count": 18,
     "metadata": {},
     "output_type": "execute_result"
    }
   ],
   "source": [
    "\"hi\" + \"Phenikaa\""
   ]
  },
  {
   "cell_type": "code",
   "execution_count": 19,
   "id": "4aba7c37",
   "metadata": {},
   "outputs": [
    {
     "data": {
      "text/plain": [
       "'hihihihihi'"
      ]
     },
     "execution_count": 19,
     "metadata": {},
     "output_type": "execute_result"
    }
   ],
   "source": [
    "\"hi\" * 5\n"
   ]
  },
  {
   "cell_type": "code",
   "execution_count": 21,
   "id": "23a26ee3",
   "metadata": {},
   "outputs": [
    {
     "data": {
      "text/plain": [
       "'TMH'"
      ]
     },
     "execution_count": 21,
     "metadata": {},
     "output_type": "execute_result"
    }
   ],
   "source": [
    "\"tmh\".upper()"
   ]
  },
  {
   "cell_type": "code",
   "execution_count": 22,
   "id": "a5580558",
   "metadata": {},
   "outputs": [
    {
     "data": {
      "text/plain": [
       "'tmh'"
      ]
     },
     "execution_count": 22,
     "metadata": {},
     "output_type": "execute_result"
    }
   ],
   "source": [
    "\"tmh\""
   ]
  },
  {
   "cell_type": "code",
   "execution_count": 23,
   "id": "7c887b86",
   "metadata": {},
   "outputs": [
    {
     "ename": "AttributeError",
     "evalue": "'str' object has no attribute 'len'",
     "output_type": "error",
     "traceback": [
      "\u001b[0;31m---------------------------------------------------------------------------\u001b[0m",
      "\u001b[0;31mAttributeError\u001b[0m                            Traceback (most recent call last)",
      "Cell \u001b[0;32mIn [23], line 1\u001b[0m\n\u001b[0;32m----> 1\u001b[0m \u001b[38;5;124;43m\"\u001b[39;49m\u001b[38;5;124;43mtmh\u001b[39;49m\u001b[38;5;124;43m\"\u001b[39;49m\u001b[43m \u001b[49m\u001b[38;5;241;43m.\u001b[39;49m\u001b[43mlen\u001b[49m()\n",
      "\u001b[0;31mAttributeError\u001b[0m: 'str' object has no attribute 'len'"
     ]
    }
   ],
   "source": [
    "\"tmh\" .len()"
   ]
  },
  {
   "cell_type": "code",
   "execution_count": 24,
   "id": "5be115ce",
   "metadata": {},
   "outputs": [
    {
     "name": "stdout",
     "output_type": "stream",
     "text": [
      "PHENIKAA UNI\n"
     ]
    }
   ],
   "source": [
    "print (\"PHENIKAA UNI\")"
   ]
  },
  {
   "cell_type": "code",
   "execution_count": 25,
   "id": "51c571f2",
   "metadata": {},
   "outputs": [
    {
     "ename": "AttributeError",
     "evalue": "'str' object has no attribute 'len'",
     "output_type": "error",
     "traceback": [
      "\u001b[0;31m---------------------------------------------------------------------------\u001b[0m",
      "\u001b[0;31mAttributeError\u001b[0m                            Traceback (most recent call last)",
      "Cell \u001b[0;32mIn [25], line 1\u001b[0m\n\u001b[0;32m----> 1\u001b[0m \u001b[38;5;124;43m\"\u001b[39;49m\u001b[38;5;124;43m html\u001b[39;49m\u001b[38;5;124;43m\"\u001b[39;49m\u001b[43m \u001b[49m\u001b[38;5;241;43m.\u001b[39;49m\u001b[43mlen\u001b[49m()\n",
      "\u001b[0;31mAttributeError\u001b[0m: 'str' object has no attribute 'len'"
     ]
    }
   ],
   "source": [
    "\" html\" .len()"
   ]
  },
  {
   "cell_type": "code",
   "execution_count": 26,
   "id": "f5d4a0fa",
   "metadata": {},
   "outputs": [
    {
     "name": "stdout",
     "output_type": "stream",
     "text": [
      "14\n"
     ]
    }
   ],
   "source": [
    "def string_lenght(str1):\n",
    "    count = 0\n",
    "    for char in str1:\n",
    "        count += 1\n",
    "    return count\n",
    "print (string_lenght('w3resource.com'))"
   ]
  },
  {
   "cell_type": "markdown",
   "id": "b52b1ad6",
   "metadata": {},
   "source": [
    "# Type of data"
   ]
  },
  {
   "cell_type": "code",
   "execution_count": 1,
   "id": "eca374b5",
   "metadata": {},
   "outputs": [],
   "source": [
    "s = \"hello\""
   ]
  },
  {
   "cell_type": "code",
   "execution_count": 2,
   "id": "64b10ded",
   "metadata": {},
   "outputs": [
    {
     "data": {
      "text/plain": [
       "str"
      ]
     },
     "execution_count": 2,
     "metadata": {},
     "output_type": "execute_result"
    }
   ],
   "source": [
    "type(s)"
   ]
  },
  {
   "cell_type": "code",
   "execution_count": 3,
   "id": "3ee731fc",
   "metadata": {},
   "outputs": [],
   "source": [
    "s = 5"
   ]
  },
  {
   "cell_type": "code",
   "execution_count": 4,
   "id": "cc8f9823",
   "metadata": {},
   "outputs": [
    {
     "data": {
      "text/plain": [
       "int"
      ]
     },
     "execution_count": 4,
     "metadata": {},
     "output_type": "execute_result"
    }
   ],
   "source": [
    "type(s)"
   ]
  },
  {
   "cell_type": "code",
   "execution_count": 5,
   "id": "a75effd6",
   "metadata": {},
   "outputs": [],
   "source": [
    "s = 14.6"
   ]
  },
  {
   "cell_type": "code",
   "execution_count": 6,
   "id": "5a8bd190",
   "metadata": {},
   "outputs": [
    {
     "data": {
      "text/plain": [
       "float"
      ]
     },
     "execution_count": 6,
     "metadata": {},
     "output_type": "execute_result"
    }
   ],
   "source": [
    "type(s)"
   ]
  },
  {
   "cell_type": "markdown",
   "id": "903dad71",
   "metadata": {},
   "source": [
    "# Booleans"
   ]
  },
  {
   "cell_type": "code",
   "execution_count": 7,
   "id": "58b3ff4a",
   "metadata": {},
   "outputs": [
    {
     "data": {
      "text/plain": [
       "True"
      ]
     },
     "execution_count": 7,
     "metadata": {},
     "output_type": "execute_result"
    }
   ],
   "source": [
    "True"
   ]
  },
  {
   "cell_type": "code",
   "execution_count": 8,
   "id": "141b6e0d",
   "metadata": {},
   "outputs": [
    {
     "data": {
      "text/plain": [
       "False"
      ]
     },
     "execution_count": 8,
     "metadata": {},
     "output_type": "execute_result"
    }
   ],
   "source": [
    "False"
   ]
  },
  {
   "cell_type": "code",
   "execution_count": 9,
   "id": "1af13853",
   "metadata": {},
   "outputs": [
    {
     "ename": "NameError",
     "evalue": "name 'true' is not defined",
     "output_type": "error",
     "traceback": [
      "\u001b[0;31m---------------------------------------------------------------------------\u001b[0m",
      "\u001b[0;31mNameError\u001b[0m                                 Traceback (most recent call last)",
      "Cell \u001b[0;32mIn [9], line 1\u001b[0m\n\u001b[0;32m----> 1\u001b[0m \u001b[43mtrue\u001b[49m\n",
      "\u001b[0;31mNameError\u001b[0m: name 'true' is not defined"
     ]
    }
   ],
   "source": [
    "true\n"
   ]
  },
  {
   "cell_type": "code",
   "execution_count": 10,
   "id": "f8a8ea46",
   "metadata": {},
   "outputs": [
    {
     "data": {
      "text/plain": [
       "False"
      ]
     },
     "execution_count": 10,
     "metadata": {},
     "output_type": "execute_result"
    }
   ],
   "source": [
    "1 == 2\n"
   ]
  },
  {
   "cell_type": "code",
   "execution_count": 12,
   "id": "8710c43e",
   "metadata": {},
   "outputs": [
    {
     "data": {
      "text/plain": [
       "True"
      ]
     },
     "execution_count": 12,
     "metadata": {},
     "output_type": "execute_result"
    }
   ],
   "source": [
    "#and\n",
    "1==1 and 2!=4"
   ]
  },
  {
   "cell_type": "code",
   "execution_count": 13,
   "id": "3be7c248",
   "metadata": {},
   "outputs": [
    {
     "data": {
      "text/plain": [
       "False"
      ]
     },
     "execution_count": 13,
     "metadata": {},
     "output_type": "execute_result"
    }
   ],
   "source": [
    "1==1 and 2==1"
   ]
  },
  {
   "cell_type": "code",
   "execution_count": 14,
   "id": "b485a3a2",
   "metadata": {},
   "outputs": [
    {
     "data": {
      "text/plain": [
       "True"
      ]
     },
     "execution_count": 14,
     "metadata": {},
     "output_type": "execute_result"
    }
   ],
   "source": [
    "#or\n",
    "1==1 or 2==3"
   ]
  },
  {
   "cell_type": "markdown",
   "id": "b3e70bdc",
   "metadata": {},
   "source": [
    "## Lists (danh sach)\n",
    "\n",
    "Danh sach la mot chuoi cac doi tuong (objects)"
   ]
  },
  {
   "cell_type": "code",
   "execution_count": 15,
   "id": "3b88f33d",
   "metadata": {},
   "outputs": [],
   "source": [
    "fruit = [\"apple\", \"banana\" , \" grape\"]"
   ]
  },
  {
   "cell_type": "code",
   "execution_count": 18,
   "id": "7a4fa846",
   "metadata": {},
   "outputs": [
    {
     "ename": "TypeError",
     "evalue": "'list' object is not callable",
     "output_type": "error",
     "traceback": [
      "\u001b[0;31m---------------------------------------------------------------------------\u001b[0m",
      "\u001b[0;31mTypeError\u001b[0m                                 Traceback (most recent call last)",
      "Cell \u001b[0;32mIn [18], line 1\u001b[0m\n\u001b[0;32m----> 1\u001b[0m \u001b[38;5;28;43mtype\u001b[39;49m\u001b[43m(\u001b[49m\u001b[43mfruit\u001b[49m\u001b[43m)\u001b[49m\n",
      "\u001b[0;31mTypeError\u001b[0m: 'list' object is not callable"
     ]
    }
   ],
   "source": [
    "type(fruit)\n"
   ]
  },
  {
   "cell_type": "code",
   "execution_count": 19,
   "id": "13063132",
   "metadata": {},
   "outputs": [
    {
     "data": {
      "text/plain": [
       "' grape'"
      ]
     },
     "execution_count": 19,
     "metadata": {},
     "output_type": "execute_result"
    }
   ],
   "source": [
    "fruit[-1]"
   ]
  },
  {
   "cell_type": "code",
   "execution_count": 20,
   "id": "944b72b0",
   "metadata": {},
   "outputs": [],
   "source": [
    "color = [\"black\" , \"white\" , \"green\"]"
   ]
  },
  {
   "cell_type": "code",
   "execution_count": 21,
   "id": "db2fc7f2",
   "metadata": {},
   "outputs": [
    {
     "data": {
      "text/plain": [
       "'white'"
      ]
     },
     "execution_count": 21,
     "metadata": {},
     "output_type": "execute_result"
    }
   ],
   "source": [
    "color[1]"
   ]
  },
  {
   "cell_type": "code",
   "execution_count": 22,
   "id": "c3ded899",
   "metadata": {},
   "outputs": [],
   "source": [
    "lst = [10 , 20 , 30 , 40 , 50 , 60 , 70 , 80 , 90]"
   ]
  },
  {
   "cell_type": "code",
   "execution_count": 23,
   "id": "9bb6ef15",
   "metadata": {},
   "outputs": [
    {
     "data": {
      "text/plain": [
       "[10, 20, 30]"
      ]
     },
     "execution_count": 23,
     "metadata": {},
     "output_type": "execute_result"
    }
   ],
   "source": [
    "lst[0:3]"
   ]
  },
  {
   "cell_type": "code",
   "execution_count": 24,
   "id": "f3fa5861",
   "metadata": {},
   "outputs": [
    {
     "data": {
      "text/plain": [
       "[50, 60]"
      ]
     },
     "execution_count": 24,
     "metadata": {},
     "output_type": "execute_result"
    }
   ],
   "source": [
    "lst[-5:-3]"
   ]
  },
  {
   "cell_type": "code",
   "execution_count": 25,
   "id": "a8b8643a",
   "metadata": {},
   "outputs": [
    {
     "data": {
      "text/plain": [
       "[]"
      ]
     },
     "execution_count": 25,
     "metadata": {},
     "output_type": "execute_result"
    }
   ],
   "source": [
    "lst[-5:1]"
   ]
  },
  {
   "cell_type": "code",
   "execution_count": 26,
   "id": "972db4bf",
   "metadata": {},
   "outputs": [
    {
     "data": {
      "text/plain": [
       "[40, 50, 60, 70, 80, 90]"
      ]
     },
     "execution_count": 26,
     "metadata": {},
     "output_type": "execute_result"
    }
   ],
   "source": [
    "lst[3:]"
   ]
  },
  {
   "cell_type": "code",
   "execution_count": 27,
   "id": "8948e5a0",
   "metadata": {},
   "outputs": [
    {
     "data": {
      "text/plain": [
       "[10, 30, 50, 70, 90]"
      ]
     },
     "execution_count": 27,
     "metadata": {},
     "output_type": "execute_result"
    }
   ],
   "source": [
    "lst[::2]"
   ]
  },
  {
   "cell_type": "code",
   "execution_count": 28,
   "id": "95463fc2",
   "metadata": {},
   "outputs": [
    {
     "data": {
      "text/plain": [
       "[10, 20, 30, 40, 50, 60, 70, 80, 90]"
      ]
     },
     "execution_count": 28,
     "metadata": {},
     "output_type": "execute_result"
    }
   ],
   "source": [
    "lst[:]"
   ]
  },
  {
   "cell_type": "code",
   "execution_count": 30,
   "id": "c5381968",
   "metadata": {},
   "outputs": [],
   "source": [
    "#insert\n",
    "lst=[1,2,3]"
   ]
  },
  {
   "cell_type": "code",
   "execution_count": 31,
   "id": "4b0f44d8",
   "metadata": {},
   "outputs": [],
   "source": [
    "lst.insert(2,9)"
   ]
  },
  {
   "cell_type": "code",
   "execution_count": 32,
   "id": "23df1495",
   "metadata": {},
   "outputs": [
    {
     "data": {
      "text/plain": [
       "[1, 2, 9, 3]"
      ]
     },
     "execution_count": 32,
     "metadata": {},
     "output_type": "execute_result"
    }
   ],
   "source": [
    "lst"
   ]
  },
  {
   "cell_type": "code",
   "execution_count": 33,
   "id": "9502e61c",
   "metadata": {},
   "outputs": [],
   "source": [
    "lst.insert(0,8)"
   ]
  },
  {
   "cell_type": "code",
   "execution_count": 34,
   "id": "c5f6cf04",
   "metadata": {},
   "outputs": [
    {
     "data": {
      "text/plain": [
       "[8, 1, 2, 9, 3]"
      ]
     },
     "execution_count": 34,
     "metadata": {},
     "output_type": "execute_result"
    }
   ],
   "source": [
    "lst\n"
   ]
  },
  {
   "cell_type": "code",
   "execution_count": 35,
   "id": "2552195b",
   "metadata": {},
   "outputs": [],
   "source": [
    "#append\n",
    "lst.append(11)"
   ]
  },
  {
   "cell_type": "code",
   "execution_count": 37,
   "id": "45339f00",
   "metadata": {},
   "outputs": [],
   "source": [
    "lst.append(8)\n"
   ]
  },
  {
   "cell_type": "code",
   "execution_count": 38,
   "id": "e5780ecf",
   "metadata": {},
   "outputs": [],
   "source": [
    "#remove\n",
    "lst.remove(8)"
   ]
  },
  {
   "cell_type": "code",
   "execution_count": 39,
   "id": "8eaa44e5",
   "metadata": {},
   "outputs": [
    {
     "data": {
      "text/plain": [
       "[1, 2, 9, 3, 11, 8]"
      ]
     },
     "execution_count": 39,
     "metadata": {},
     "output_type": "execute_result"
    }
   ],
   "source": [
    "lst\n"
   ]
  },
  {
   "cell_type": "code",
   "execution_count": 41,
   "id": "4e075388",
   "metadata": {},
   "outputs": [],
   "source": [
    "#reverse\n",
    "lst.reverse()"
   ]
  },
  {
   "cell_type": "code",
   "execution_count": 42,
   "id": "5b6c48eb",
   "metadata": {},
   "outputs": [
    {
     "data": {
      "text/plain": [
       "[8, 11, 3, 9, 2, 1]"
      ]
     },
     "execution_count": 42,
     "metadata": {},
     "output_type": "execute_result"
    }
   ],
   "source": [
    "lst"
   ]
  },
  {
   "cell_type": "code",
   "execution_count": 43,
   "id": "1b43b852",
   "metadata": {},
   "outputs": [],
   "source": [
    "del lst[3]"
   ]
  },
  {
   "cell_type": "code",
   "execution_count": 44,
   "id": "2bcd44ee",
   "metadata": {},
   "outputs": [
    {
     "data": {
      "text/plain": [
       "[8, 11, 3, 2, 1]"
      ]
     },
     "execution_count": 44,
     "metadata": {},
     "output_type": "execute_result"
    }
   ],
   "source": [
    "lst\n"
   ]
  },
  {
   "cell_type": "code",
   "execution_count": 45,
   "id": "f9a39e7a",
   "metadata": {},
   "outputs": [],
   "source": [
    "#sort\n",
    "lst.sort()"
   ]
  },
  {
   "cell_type": "code",
   "execution_count": 46,
   "id": "c94f312d",
   "metadata": {},
   "outputs": [
    {
     "data": {
      "text/plain": [
       "[1, 2, 3, 8, 11]"
      ]
     },
     "execution_count": 46,
     "metadata": {},
     "output_type": "execute_result"
    }
   ],
   "source": [
    "lst\n"
   ]
  },
  {
   "cell_type": "code",
   "execution_count": 47,
   "id": "fe5ee58e",
   "metadata": {},
   "outputs": [],
   "source": [
    "lst.sort(reverse=True)"
   ]
  },
  {
   "cell_type": "code",
   "execution_count": 48,
   "id": "4c39cfe3",
   "metadata": {},
   "outputs": [
    {
     "data": {
      "text/plain": [
       "[11, 8, 3, 2, 1]"
      ]
     },
     "execution_count": 48,
     "metadata": {},
     "output_type": "execute_result"
    }
   ],
   "source": [
    "lst"
   ]
  },
  {
   "cell_type": "markdown",
   "id": "227bc6db",
   "metadata": {},
   "source": [
    "### Danh sach da chieu"
   ]
  },
  {
   "cell_type": "markdown",
   "id": "4302493b",
   "metadata": {},
   "source": [
    "#### bieu thuc dieu kien va vong lap"
   ]
  },
  {
   "cell_type": "code",
   "execution_count": 55,
   "id": "3bdd2a0e",
   "metadata": {},
   "outputs": [
    {
     "name": "stdout",
     "output_type": "stream",
     "text": [
      "Nhap vao ten cua ban:Trang\n"
     ]
    }
   ],
   "source": [
    "name = input(\"Nhap vao ten cua ban:\")"
   ]
  },
  {
   "cell_type": "code",
   "execution_count": 56,
   "id": "026850bd",
   "metadata": {},
   "outputs": [
    {
     "name": "stdout",
     "output_type": "stream",
     "text": [
      "Hi Trang\n"
     ]
    }
   ],
   "source": [
    "if name == \"Trang\":\n",
    "    print('Hi Trang')\n",
    "elif name ==('John'):\n",
    "    print ('Hi John')\n",
    "else:\n",
    "    print(\"Khong phai la Trang,ma la \", name)"
   ]
  },
  {
   "cell_type": "markdown",
   "id": "fd9f9cdf",
   "metadata": {},
   "source": [
    "### Vong lap (loops)\n"
   ]
  },
  {
   "cell_type": "code",
   "execution_count": 57,
   "id": "8583be82",
   "metadata": {},
   "outputs": [
    {
     "name": "stdout",
     "output_type": "stream",
     "text": [
      "So moi la 2\n",
      "So moi la 3\n",
      "So moi la 4\n",
      "So moi la 5\n",
      "So moi la 6\n"
     ]
    }
   ],
   "source": [
    "#Counting loops - for\n",
    "for mynum in [1, 2, 3, 4, 5]:\n",
    "    newnum = mynum + 1\n",
    "    print(\"So moi la\", newnum)"
   ]
  },
  {
   "cell_type": "code",
   "execution_count": 58,
   "id": "d1569dc6",
   "metadata": {},
   "outputs": [
    {
     "name": "stdout",
     "output_type": "stream",
     "text": [
      "So dem la: 0\n",
      "So dem la: 1\n",
      "So dem la: 2\n",
      "So dem la: 3\n",
      "So dem la: 4\n",
      "So dem la: 5\n",
      "So dem la: 6\n",
      "So dem la: 7\n",
      "So dem la: 8\n",
      "So dem la: 9\n"
     ]
    }
   ],
   "source": [
    "#conditional loops - while\n",
    "count = 0\n",
    "while (count < 10):\n",
    "    print(\"So dem la:\", count)\n",
    "    count = count + 1"
   ]
  },
  {
   "cell_type": "markdown",
   "id": "b8c47ddc",
   "metadata": {},
   "source": [
    "### break and continue"
   ]
  },
  {
   "cell_type": "code",
   "execution_count": 59,
   "id": "3ab16888",
   "metadata": {},
   "outputs": [
    {
     "name": "stdout",
     "output_type": "stream",
     "text": [
      "So dem la: 1\n",
      "So dem la: 2\n",
      "So dem la: 3\n",
      "So dem la: 4\n",
      "So dem la: 5\n"
     ]
    }
   ],
   "source": [
    "count = 0\n",
    "while (count < 10):\n",
    "    count = count +1\n",
    "    print(\"So dem la:\", count)\n",
    "    if count ==5:\n",
    "        break\n",
    "       "
   ]
  },
  {
   "cell_type": "code",
   "execution_count": 62,
   "id": "74c2b95b",
   "metadata": {},
   "outputs": [
    {
     "name": "stdout",
     "output_type": "stream",
     "text": [
      "Nhap vao mot so:10\n",
      "Gia tri ban nhap la: 10\n",
      "Ban co muon dung lai khong?(c/k):k\n",
      "Nhap vao mot so:10\n",
      "Gia tri ban nhap la: 10\n",
      "Ban co muon dung lai khong?(c/k):k\n",
      "Nhap vao mot so:20000\n",
      "Gia tri ban nhap la: 20000\n",
      "Ban co muon dung lai khong?(c/k):c\n",
      "Bye bye!\n"
     ]
    }
   ],
   "source": [
    "while True:\n",
    "    a = int(input(\"Nhap vao mot so:\"))\n",
    "    print(\"Gia tri ban nhap la:\",a)\n",
    "    s=input(\"Ban co muon dung lai khong?(c/k):\")\n",
    "    if s==\"c\":\n",
    "        break\n",
    "print(\"Bye bye!\")"
   ]
  },
  {
   "cell_type": "code",
   "execution_count": 65,
   "id": "db7f6366",
   "metadata": {},
   "outputs": [
    {
     "name": "stdout",
     "output_type": "stream",
     "text": [
      "So dem la: 0\n",
      "So dem la: 1\n",
      "So dem la: 2\n",
      "So dem la: 3\n",
      "So dem la: 4\n",
      "So dem la: 6\n",
      "So dem la: 7\n",
      "So dem la: 8\n",
      "So dem la: 9\n"
     ]
    }
   ],
   "source": [
    "#continue\n",
    "count = 0\n",
    "while (count < 10):\n",
    "    if count == 5:\n",
    "        count = count +1\n",
    "        continue\n",
    "    print(\"So dem la:\", count)\n",
    "    count = count +1"
   ]
  },
  {
   "cell_type": "markdown",
   "id": "f98e7cc8",
   "metadata": {},
   "source": [
    "# Functions (ham so)"
   ]
  },
  {
   "cell_type": "code",
   "execution_count": 1,
   "id": "d097eef6",
   "metadata": {},
   "outputs": [],
   "source": [
    "def say_hello():\n",
    "    print('Hello world!')"
   ]
  },
  {
   "cell_type": "code",
   "execution_count": 2,
   "id": "8bac1358",
   "metadata": {},
   "outputs": [
    {
     "name": "stdout",
     "output_type": "stream",
     "text": [
      "Hello world!\n"
     ]
    }
   ],
   "source": [
    "say_hello()"
   ]
  },
  {
   "cell_type": "code",
   "execution_count": 6,
   "id": "b076e0ee",
   "metadata": {},
   "outputs": [],
   "source": [
    "def say_hello():\n",
    "    print('Hello,myname')"
   ]
  },
  {
   "cell_type": "code",
   "execution_count": 4,
   "id": "09b89950",
   "metadata": {},
   "outputs": [
    {
     "ename": "NameError",
     "evalue": "name 'say_hieu' is not defined",
     "output_type": "error",
     "traceback": [
      "\u001b[0;31m---------------------------------------------------------------------------\u001b[0m",
      "\u001b[0;31mNameError\u001b[0m                                 Traceback (most recent call last)",
      "Cell \u001b[0;32mIn [4], line 1\u001b[0m\n\u001b[0;32m----> 1\u001b[0m \u001b[43msay_hieu\u001b[49m()\n",
      "\u001b[0;31mNameError\u001b[0m: name 'say_hieu' is not defined"
     ]
    }
   ],
   "source": [
    "say_hieu()"
   ]
  },
  {
   "cell_type": "code",
   "execution_count": 7,
   "id": "cf6561ef",
   "metadata": {},
   "outputs": [
    {
     "ename": "TypeError",
     "evalue": "say_hello() takes 0 positional arguments but 1 was given",
     "output_type": "error",
     "traceback": [
      "\u001b[0;31m---------------------------------------------------------------------------\u001b[0m",
      "\u001b[0;31mTypeError\u001b[0m                                 Traceback (most recent call last)",
      "Cell \u001b[0;32mIn [7], line 1\u001b[0m\n\u001b[0;32m----> 1\u001b[0m \u001b[43msay_hello\u001b[49m\u001b[43m(\u001b[49m\u001b[38;5;124;43m\"\u001b[39;49m\u001b[38;5;124;43mHieu\u001b[39;49m\u001b[38;5;124;43m\"\u001b[39;49m\u001b[43m)\u001b[49m\n",
      "\u001b[0;31mTypeError\u001b[0m: say_hello() takes 0 positional arguments but 1 was given"
     ]
    }
   ],
   "source": [
    "say_hello(\"Hieu\")"
   ]
  },
  {
   "cell_type": "code",
   "execution_count": 8,
   "id": "3a3bd876",
   "metadata": {},
   "outputs": [],
   "source": [
    "def check_num(mynum):\n",
    "    if mynum % 2 == 0:\n",
    "        print('la so chan')\n",
    "    else:\n",
    "        print('la so le')\n"
   ]
  },
  {
   "cell_type": "code",
   "execution_count": 9,
   "id": "90ef5d06",
   "metadata": {},
   "outputs": [
    {
     "name": "stdout",
     "output_type": "stream",
     "text": [
      "la so le\n"
     ]
    }
   ],
   "source": [
    "check_num(5)"
   ]
  },
  {
   "cell_type": "code",
   "execution_count": 10,
   "id": "f50303e6",
   "metadata": {},
   "outputs": [],
   "source": [
    "def multiply(num1 , num2):\n",
    "    print(num1 * num2)"
   ]
  },
  {
   "cell_type": "code",
   "execution_count": 12,
   "id": "66dfa43e",
   "metadata": {},
   "outputs": [
    {
     "name": "stdout",
     "output_type": "stream",
     "text": [
      "200\n"
     ]
    }
   ],
   "source": [
    "multiply(10 ,20)"
   ]
  },
  {
   "cell_type": "code",
   "execution_count": 13,
   "id": "70965fe4",
   "metadata": {},
   "outputs": [],
   "source": [
    "def hello_there():\n",
    "    print('Type your name:')\n",
    "    name = input()\n",
    "    print(\"Hi\", name, \"How are you?\")"
   ]
  },
  {
   "cell_type": "code",
   "execution_count": 16,
   "id": "0affdab4",
   "metadata": {},
   "outputs": [
    {
     "name": "stdout",
     "output_type": "stream",
     "text": [
      "Type your name:\n",
      "hieu\n",
      "Hi hieu How are you?\n"
     ]
    }
   ],
   "source": [
    "hello_there()"
   ]
  },
  {
   "cell_type": "code",
   "execution_count": null,
   "id": "14f35a73",
   "metadata": {},
   "outputs": [],
   "source": []
  }
 ],
 "metadata": {
  "kernelspec": {
   "display_name": "Python 3 (ipykernel)",
   "language": "python",
   "name": "python3"
  },
  "language_info": {
   "codemirror_mode": {
    "name": "ipython",
    "version": 3
   },
   "file_extension": ".py",
   "mimetype": "text/x-python",
   "name": "python",
   "nbconvert_exporter": "python",
   "pygments_lexer": "ipython3",
   "version": "3.9.7"
  }
 },
 "nbformat": 4,
 "nbformat_minor": 5
}
